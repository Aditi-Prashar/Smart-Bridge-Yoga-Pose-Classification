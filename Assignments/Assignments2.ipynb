{
  "nbformat": 4,
  "nbformat_minor": 0,
  "metadata": {
    "colab": {
      "provenance": []
    },
    "kernelspec": {
      "name": "python3",
      "display_name": "Python 3"
    },
    "language_info": {
      "name": "python"
    }
  },
  "cells": [
    {
      "cell_type": "markdown",
      "source": [
        "# Task 1: Read the dataset and do data pre-processing"
      ],
      "metadata": {
        "id": "BzOhN0-zwAZi"
      }
    },
    {
      "cell_type": "code",
      "execution_count": null,
      "metadata": {
        "id": "jjeiQ2bD9b30"
      },
      "outputs": [],
      "source": [
        "import pandas as pd\n",
        "from sklearn.model_selection import train_test_split\n",
        "from sklearn.preprocessing import LabelEncoder, StandardScaler\n",
        "\n",
        "# Read the dataset\n",
        "data = pd.read_csv(\"drug200[1].csv\")\n"
      ]
    },
    {
      "cell_type": "code",
      "source": [
        "data.head()"
      ],
      "metadata": {
        "colab": {
          "base_uri": "https://localhost:8080/",
          "height": 206
        },
        "id": "zawqG9oZGFdL",
        "outputId": "c36845e1-069c-4f38-97a4-89997248175f"
      },
      "execution_count": null,
      "outputs": [
        {
          "output_type": "execute_result",
          "data": {
            "text/plain": [
              "   Age Sex      BP Cholesterol  Na_to_K   Drug\n",
              "0   23   F    HIGH        HIGH   25.355  DrugY\n",
              "1   47   M     LOW        HIGH   13.093  drugC\n",
              "2   47   M     LOW        HIGH   10.114  drugC\n",
              "3   28   F  NORMAL        HIGH    7.798  drugX\n",
              "4   61   F     LOW        HIGH   18.043  DrugY"
            ],
            "text/html": [
              "\n",
              "  <div id=\"df-c760479f-ca7b-4f49-ab7c-3db8d2560670\">\n",
              "    <div class=\"colab-df-container\">\n",
              "      <div>\n",
              "<style scoped>\n",
              "    .dataframe tbody tr th:only-of-type {\n",
              "        vertical-align: middle;\n",
              "    }\n",
              "\n",
              "    .dataframe tbody tr th {\n",
              "        vertical-align: top;\n",
              "    }\n",
              "\n",
              "    .dataframe thead th {\n",
              "        text-align: right;\n",
              "    }\n",
              "</style>\n",
              "<table border=\"1\" class=\"dataframe\">\n",
              "  <thead>\n",
              "    <tr style=\"text-align: right;\">\n",
              "      <th></th>\n",
              "      <th>Age</th>\n",
              "      <th>Sex</th>\n",
              "      <th>BP</th>\n",
              "      <th>Cholesterol</th>\n",
              "      <th>Na_to_K</th>\n",
              "      <th>Drug</th>\n",
              "    </tr>\n",
              "  </thead>\n",
              "  <tbody>\n",
              "    <tr>\n",
              "      <th>0</th>\n",
              "      <td>23</td>\n",
              "      <td>F</td>\n",
              "      <td>HIGH</td>\n",
              "      <td>HIGH</td>\n",
              "      <td>25.355</td>\n",
              "      <td>DrugY</td>\n",
              "    </tr>\n",
              "    <tr>\n",
              "      <th>1</th>\n",
              "      <td>47</td>\n",
              "      <td>M</td>\n",
              "      <td>LOW</td>\n",
              "      <td>HIGH</td>\n",
              "      <td>13.093</td>\n",
              "      <td>drugC</td>\n",
              "    </tr>\n",
              "    <tr>\n",
              "      <th>2</th>\n",
              "      <td>47</td>\n",
              "      <td>M</td>\n",
              "      <td>LOW</td>\n",
              "      <td>HIGH</td>\n",
              "      <td>10.114</td>\n",
              "      <td>drugC</td>\n",
              "    </tr>\n",
              "    <tr>\n",
              "      <th>3</th>\n",
              "      <td>28</td>\n",
              "      <td>F</td>\n",
              "      <td>NORMAL</td>\n",
              "      <td>HIGH</td>\n",
              "      <td>7.798</td>\n",
              "      <td>drugX</td>\n",
              "    </tr>\n",
              "    <tr>\n",
              "      <th>4</th>\n",
              "      <td>61</td>\n",
              "      <td>F</td>\n",
              "      <td>LOW</td>\n",
              "      <td>HIGH</td>\n",
              "      <td>18.043</td>\n",
              "      <td>DrugY</td>\n",
              "    </tr>\n",
              "  </tbody>\n",
              "</table>\n",
              "</div>\n",
              "      <button class=\"colab-df-convert\" onclick=\"convertToInteractive('df-c760479f-ca7b-4f49-ab7c-3db8d2560670')\"\n",
              "              title=\"Convert this dataframe to an interactive table.\"\n",
              "              style=\"display:none;\">\n",
              "        \n",
              "  <svg xmlns=\"http://www.w3.org/2000/svg\" height=\"24px\"viewBox=\"0 0 24 24\"\n",
              "       width=\"24px\">\n",
              "    <path d=\"M0 0h24v24H0V0z\" fill=\"none\"/>\n",
              "    <path d=\"M18.56 5.44l.94 2.06.94-2.06 2.06-.94-2.06-.94-.94-2.06-.94 2.06-2.06.94zm-11 1L8.5 8.5l.94-2.06 2.06-.94-2.06-.94L8.5 2.5l-.94 2.06-2.06.94zm10 10l.94 2.06.94-2.06 2.06-.94-2.06-.94-.94-2.06-.94 2.06-2.06.94z\"/><path d=\"M17.41 7.96l-1.37-1.37c-.4-.4-.92-.59-1.43-.59-.52 0-1.04.2-1.43.59L10.3 9.45l-7.72 7.72c-.78.78-.78 2.05 0 2.83L4 21.41c.39.39.9.59 1.41.59.51 0 1.02-.2 1.41-.59l7.78-7.78 2.81-2.81c.8-.78.8-2.07 0-2.86zM5.41 20L4 18.59l7.72-7.72 1.47 1.35L5.41 20z\"/>\n",
              "  </svg>\n",
              "      </button>\n",
              "      \n",
              "  <style>\n",
              "    .colab-df-container {\n",
              "      display:flex;\n",
              "      flex-wrap:wrap;\n",
              "      gap: 12px;\n",
              "    }\n",
              "\n",
              "    .colab-df-convert {\n",
              "      background-color: #E8F0FE;\n",
              "      border: none;\n",
              "      border-radius: 50%;\n",
              "      cursor: pointer;\n",
              "      display: none;\n",
              "      fill: #1967D2;\n",
              "      height: 32px;\n",
              "      padding: 0 0 0 0;\n",
              "      width: 32px;\n",
              "    }\n",
              "\n",
              "    .colab-df-convert:hover {\n",
              "      background-color: #E2EBFA;\n",
              "      box-shadow: 0px 1px 2px rgba(60, 64, 67, 0.3), 0px 1px 3px 1px rgba(60, 64, 67, 0.15);\n",
              "      fill: #174EA6;\n",
              "    }\n",
              "\n",
              "    [theme=dark] .colab-df-convert {\n",
              "      background-color: #3B4455;\n",
              "      fill: #D2E3FC;\n",
              "    }\n",
              "\n",
              "    [theme=dark] .colab-df-convert:hover {\n",
              "      background-color: #434B5C;\n",
              "      box-shadow: 0px 1px 3px 1px rgba(0, 0, 0, 0.15);\n",
              "      filter: drop-shadow(0px 1px 2px rgba(0, 0, 0, 0.3));\n",
              "      fill: #FFFFFF;\n",
              "    }\n",
              "  </style>\n",
              "\n",
              "      <script>\n",
              "        const buttonEl =\n",
              "          document.querySelector('#df-c760479f-ca7b-4f49-ab7c-3db8d2560670 button.colab-df-convert');\n",
              "        buttonEl.style.display =\n",
              "          google.colab.kernel.accessAllowed ? 'block' : 'none';\n",
              "\n",
              "        async function convertToInteractive(key) {\n",
              "          const element = document.querySelector('#df-c760479f-ca7b-4f49-ab7c-3db8d2560670');\n",
              "          const dataTable =\n",
              "            await google.colab.kernel.invokeFunction('convertToInteractive',\n",
              "                                                     [key], {});\n",
              "          if (!dataTable) return;\n",
              "\n",
              "          const docLinkHtml = 'Like what you see? Visit the ' +\n",
              "            '<a target=\"_blank\" href=https://colab.research.google.com/notebooks/data_table.ipynb>data table notebook</a>'\n",
              "            + ' to learn more about interactive tables.';\n",
              "          element.innerHTML = '';\n",
              "          dataTable['output_type'] = 'display_data';\n",
              "          await google.colab.output.renderOutput(dataTable, element);\n",
              "          const docLink = document.createElement('div');\n",
              "          docLink.innerHTML = docLinkHtml;\n",
              "          element.appendChild(docLink);\n",
              "        }\n",
              "      </script>\n",
              "    </div>\n",
              "  </div>\n",
              "  "
            ]
          },
          "metadata": {},
          "execution_count": 30
        }
      ]
    },
    {
      "cell_type": "code",
      "source": [
        "X = data.drop('Drug', axis=1)\n",
        "y = data['Drug']\n",
        "\n",
        "# Perform label encoding on categorical variables\n",
        "label_encoder = LabelEncoder()\n",
        "y = label_encoder.fit_transform(y)\n",
        "\n",
        "# Perform one-hot encoding on categorical features\n",
        "X = pd.get_dummies(X)\n",
        "print(\" One-hot Encoding on X\\n\",X)\n",
        "\n",
        "# Scale the numeric features\n",
        "scaler = StandardScaler()\n",
        "X = scaler.fit_transform(X)\n",
        "print(\"Scaling the numeric values\\n\")\n",
        "print(pd.DataFrame(X,columns=['Age' ,'Na_to_K', ' Sex_F',  'Sex_M'  ,'BP_HIGH',  'BP_LOW'  ,'BP_NORMAL' , 'Cholesterol_HIGH ','Cholesterol_NORMAL']))\n",
        "# Split the dataset into training and testing sets\n",
        "X_train, X_test, y_train, y_test = train_test_split(X, y, test_size=0.2, random_state=42)"
      ],
      "metadata": {
        "id": "tz_XSY14wDSS",
        "colab": {
          "base_uri": "https://localhost:8080/"
        },
        "outputId": "0afc2642-6c45-43cb-b78a-4e00c61bb1ae"
      },
      "execution_count": null,
      "outputs": [
        {
          "output_type": "stream",
          "name": "stdout",
          "text": [
            " One-hot Encoding on X\n",
            "      Age  Na_to_K  Sex_F  Sex_M  BP_HIGH  BP_LOW  BP_NORMAL  Cholesterol_HIGH  \\\n",
            "0     23   25.355      1      0        1       0          0                 1   \n",
            "1     47   13.093      0      1        0       1          0                 1   \n",
            "2     47   10.114      0      1        0       1          0                 1   \n",
            "3     28    7.798      1      0        0       0          1                 1   \n",
            "4     61   18.043      1      0        0       1          0                 1   \n",
            "..   ...      ...    ...    ...      ...     ...        ...               ...   \n",
            "195   56   11.567      1      0        0       1          0                 1   \n",
            "196   16   12.006      0      1        0       1          0                 1   \n",
            "197   52    9.894      0      1        0       0          1                 1   \n",
            "198   23   14.020      0      1        0       0          1                 0   \n",
            "199   40   11.349      1      0        0       1          0                 0   \n",
            "\n",
            "     Cholesterol_NORMAL  \n",
            "0                     0  \n",
            "1                     0  \n",
            "2                     0  \n",
            "3                     0  \n",
            "4                     0  \n",
            "..                  ...  \n",
            "195                   0  \n",
            "196                   0  \n",
            "197                   0  \n",
            "198                   1  \n",
            "199                   1  \n",
            "\n",
            "[200 rows x 9 columns]\n",
            "Scaling the numeric values\n",
            "\n",
            "          Age   Na_to_K     Sex_F     Sex_M   BP_HIGH    BP_LOW  BP_NORMAL  \\\n",
            "0   -1.291591  1.286522  1.040833 -1.040833  1.263884 -0.685994  -0.646869   \n",
            "1    0.162699 -0.415145 -0.960769  0.960769 -0.791212  1.457738  -0.646869   \n",
            "2    0.162699 -0.828558 -0.960769  0.960769 -0.791212  1.457738  -0.646869   \n",
            "3   -0.988614 -1.149963  1.040833 -1.040833 -0.791212 -0.685994   1.545908   \n",
            "4    1.011034  0.271794  1.040833 -1.040833 -0.791212  1.457738  -0.646869   \n",
            "..        ...       ...       ...       ...       ...       ...        ...   \n",
            "195  0.708057 -0.626917  1.040833 -1.040833 -0.791212  1.457738  -0.646869   \n",
            "196 -1.715759 -0.565995 -0.960769  0.960769 -0.791212  1.457738  -0.646869   \n",
            "197  0.465676 -0.859089 -0.960769  0.960769 -0.791212 -0.685994   1.545908   \n",
            "198 -1.291591 -0.286500 -0.960769  0.960769 -0.791212 -0.685994   1.545908   \n",
            "199 -0.261469 -0.657170  1.040833 -1.040833 -0.791212  1.457738  -0.646869   \n",
            "\n",
            "     Cholesterol_HIGH   Cholesterol_NORMAL  \n",
            "0             0.970437           -0.970437  \n",
            "1             0.970437           -0.970437  \n",
            "2             0.970437           -0.970437  \n",
            "3             0.970437           -0.970437  \n",
            "4             0.970437           -0.970437  \n",
            "..                 ...                 ...  \n",
            "195           0.970437           -0.970437  \n",
            "196           0.970437           -0.970437  \n",
            "197           0.970437           -0.970437  \n",
            "198          -1.030464            1.030464  \n",
            "199          -1.030464            1.030464  \n",
            "\n",
            "[200 rows x 9 columns]\n"
          ]
        }
      ]
    },
    {
      "cell_type": "markdown",
      "source": [
        "# Task 2: Build the ANN model with (input layer, min 3 hidden layers & output layer"
      ],
      "metadata": {
        "id": "cep_SslBvxFy"
      }
    },
    {
      "cell_type": "code",
      "source": [
        "from keras.models import Sequential\n",
        "from keras.layers import Dense\n",
        "\n",
        "# Build the ANN model\n",
        "model = Sequential()\n",
        "\n",
        "# Add input layer\n",
        "model.add(Dense(units=64, activation='relu', input_dim=X_train.shape[1]))\n",
        "\n",
        "# Add hidden layers\n",
        "model.add(Dense(units=32, activation='relu'))\n",
        "model.add(Dense(units=16, activation='relu'))\n",
        "model.add(Dense(units=8, activation='relu'))\n",
        "\n",
        "# Add output layer\n",
        "model.add(Dense(units=len(label_encoder.classes_), activation='softmax'))\n"
      ],
      "metadata": {
        "id": "aA5RPmzl6ugi"
      },
      "execution_count": null,
      "outputs": []
    },
    {
      "cell_type": "markdown",
      "source": [
        "# Task 3 : Test the model with random data"
      ],
      "metadata": {
        "id": "-Vbar7N1vIVC"
      }
    },
    {
      "cell_type": "code",
      "source": [
        "import numpy as np\n",
        "\n",
        "# Generate random data\n",
        "random_data = np.random.rand(1, X_train.shape[1])\n",
        "\n",
        "# Make predictions\n",
        "predicted_class = np.argmax(model.predict(random_data))\n",
        "predicted_drug = label_encoder.inverse_transform([predicted_class])[0]\n",
        "\n",
        "print(\"Random Data:\", random_data)\n",
        "print(\"Predicted Drug:\", predicted_drug)"
      ],
      "metadata": {
        "colab": {
          "base_uri": "https://localhost:8080/"
        },
        "id": "3hpV5EhGvUZT",
        "outputId": "fad3f46a-d3da-4e41-eee6-09edf9280e0a"
      },
      "execution_count": null,
      "outputs": [
        {
          "output_type": "stream",
          "name": "stdout",
          "text": [
            "1/1 [==============================] - 0s 59ms/step\n",
            "Random Data: [[0.45401706 0.99966265 0.59590274 0.33774998 0.67395311 0.62675388\n",
            "  0.06122523 0.42958459 0.26928388]]\n",
            "Predicted Drug: drugX\n"
          ]
        }
      ]
    },
    {
      "cell_type": "code",
      "source": [],
      "metadata": {
        "id": "T5ElOLO024uC"
      },
      "execution_count": null,
      "outputs": []
    }
  ]
}